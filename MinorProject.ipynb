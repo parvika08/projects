{
  "nbformat": 4,
  "nbformat_minor": 0,
  "metadata": {
    "colab": {
      "name": "MinorProject.ipynb",
      "provenance": [],
      "collapsed_sections": [],
      "mount_file_id": "1dRIFzwEMv2Sl5THIUwq7pMQibTSY90CX",
      "authorship_tag": "ABX9TyMQPy3QLMptY3a4OVF/uF56",
      "include_colab_link": true
    },
    "kernelspec": {
      "name": "python3",
      "display_name": "Python 3"
    }
  },
  "cells": [
    {
      "cell_type": "markdown",
      "metadata": {
        "id": "view-in-github",
        "colab_type": "text"
      },
      "source": [
        "<a href=\"https://colab.research.google.com/github/parvika08/projects/blob/main/MinorProject.ipynb\" target=\"_parent\"><img src=\"https://colab.research.google.com/assets/colab-badge.svg\" alt=\"Open In Colab\"/></a>"
      ]
    },
    {
      "cell_type": "code",
      "metadata": {
        "colab": {
          "base_uri": "https://localhost:8080/"
        },
        "id": "UmfSLeYMayx2",
        "outputId": "ba759f21-bdf2-4a06-dee4-dd8016b8c78c"
      },
      "source": [
        "!pip install bing_image_downloader\n"
      ],
      "execution_count": null,
      "outputs": [
        {
          "output_type": "stream",
          "text": [
            "Collecting bing_image_downloader\n",
            "  Downloading https://files.pythonhosted.org/packages/0d/bf/537a61030b84ae4cd5022d5c7b014fd9bc3ce7c02358919153a6658a61d3/bing_image_downloader-1.0.4-py3-none-any.whl\n",
            "Installing collected packages: bing-image-downloader\n",
            "Successfully installed bing-image-downloader-1.0.4\n"
          ],
          "name": "stdout"
        }
      ]
    },
    {
      "cell_type": "code",
      "metadata": {
        "id": "L2x53-T6bMyi"
      },
      "source": [
        "!mkdir images"
      ],
      "execution_count": null,
      "outputs": []
    },
    {
      "cell_type": "code",
      "metadata": {
        "id": "HmfgSJjdbQDD"
      },
      "source": [
        "from bing_image_downloader import downloader"
      ],
      "execution_count": null,
      "outputs": []
    },
    {
      "cell_type": "code",
      "metadata": {
        "colab": {
          "base_uri": "https://localhost:8080/"
        },
        "id": "1SYEKPAobZ9C",
        "outputId": "7a488fcb-5932-4868-b3e8-417c0701c1da"
      },
      "source": [
        "downloader.download(\"german shepherd\",limit =25,output_dir='images')\n",
        "downloader.download(\"pug\",limit=25,output_dir='images')\n"
      ],
      "execution_count": null,
      "outputs": [
        {
          "output_type": "stream",
          "text": [
            "\n",
            "\n",
            "[!!]Indexing page: 1\n",
            "\n",
            "[%] Indexed 12 Images on Page 1.\n",
            "\n",
            "===============================================\n",
            "\n",
            "[%] Downloading Image #1 from http://www.everythingmixed.com/wp-content/uploads/11-german-shepherds.jpg\n",
            "[%] File Downloaded !\n",
            "\n",
            "[%] Downloading Image #2 from http://royalair.org/silver eye circles.jpg\n",
            "[!] Issue getting: http://royalair.org/silver eye circles.jpg\n",
            "[!] Error:: URL can't contain control characters. '/silver eye circles.jpg' (found at least ' ')\n",
            "[%] Downloading Image #2 from https://tacticalpolicek9training.com/wp-content/uploads/2012/10/Police-dogs-for-sale-german-Shepherd-Malinois-Labrador.jpg\n",
            "[%] File Downloaded !\n",
            "\n",
            "[%] Downloading Image #3 from https://www.germanshepherds.com/forum/attachments/health-issues/14668d1327633323-elbow-lump-help-please-img_0936.jpg\n",
            "[%] File Downloaded !\n",
            "\n",
            "[%] Downloading Image #4 from http://www.samanthasbell.com/wp-content/uploads/2017/12/Blue-eyed-German-Shepherd-768x1024.jpg\n",
            "[%] File Downloaded !\n",
            "\n",
            "[%] Downloading Image #5 from https://s3-eu-west-1.amazonaws.com/bowwowtimes-new/wp-content/uploads/2015/04/new-shepherd-newfoundland.jpg\n",
            "[%] File Downloaded !\n",
            "\n",
            "[%] Downloading Image #6 from https://www.cgstudio.com/imgd/l/94/59b2ed10a7024804068b4567/7184-german-shepherd.jpg\n",
            "[%] File Downloaded !\n",
            "\n",
            "[%] Downloading Image #7 from https://i.pinimg.com/736x/f6/25/15/f62515e81b1edab6a7c811c61b1c3981--hilarious-animals-funny-dogs.jpg\n",
            "[%] File Downloaded !\n",
            "\n",
            "[%] Downloading Image #8 from http://www.germanshepherds.com/forum/attachments/general-puppy-stuff/422889d1494915994-sable-black-tan-1.jpg\n",
            "[%] File Downloaded !\n",
            "\n",
            "[%] Downloading Image #9 from https://www.germanshepherds.com/forum/attachments/development-socialization/41650d1361933629-my-all-black-german-shepherd-puppy-sadie-imageuploadedbypg-free1361933629.350857.jpg\n",
            "[%] File Downloaded !\n",
            "\n",
            "[%] Downloading Image #10 from https://s3-eu-west-1.amazonaws.com/bowwowtimes-new/wp-content/uploads/2015/05/16-gsd.jpg\n",
            "[%] File Downloaded !\n",
            "\n",
            "[%] Downloading Image #11 from https://www.germanshepherds.com/forum/attachments/feeding-our-puppy/285034d1427616003-big-poop-20150312_135547_1427615867490.jpg\n",
            "[%] File Downloaded !\n",
            "\n",
            "\n",
            "\n",
            "[!!]Indexing page: 2\n",
            "\n",
            "[%] Indexed 12 Images on Page 2.\n",
            "\n",
            "===============================================\n",
            "\n",
            "[%] Downloading Image #12 from http://www.everythingmixed.com/wp-content/uploads/11-german-shepherds.jpg\n",
            "[%] File Downloaded !\n",
            "\n",
            "[%] Downloading Image #13 from http://royalair.org/silver eye circles.jpg\n",
            "[!] Issue getting: http://royalair.org/silver eye circles.jpg\n",
            "[!] Error:: URL can't contain control characters. '/silver eye circles.jpg' (found at least ' ')\n",
            "[%] Downloading Image #13 from https://tacticalpolicek9training.com/wp-content/uploads/2012/10/Police-dogs-for-sale-german-Shepherd-Malinois-Labrador.jpg\n",
            "[%] File Downloaded !\n",
            "\n",
            "[%] Downloading Image #14 from https://www.germanshepherds.com/forum/attachments/health-issues/14668d1327633323-elbow-lump-help-please-img_0936.jpg\n",
            "[%] File Downloaded !\n",
            "\n",
            "[%] Downloading Image #15 from http://www.samanthasbell.com/wp-content/uploads/2017/12/Blue-eyed-German-Shepherd-768x1024.jpg\n",
            "[%] File Downloaded !\n",
            "\n",
            "[%] Downloading Image #16 from https://s3-eu-west-1.amazonaws.com/bowwowtimes-new/wp-content/uploads/2015/04/new-shepherd-newfoundland.jpg\n",
            "[%] File Downloaded !\n",
            "\n",
            "[%] Downloading Image #17 from https://www.cgstudio.com/imgd/l/94/59b2ed10a7024804068b4567/7184-german-shepherd.jpg\n",
            "[%] File Downloaded !\n",
            "\n",
            "[%] Downloading Image #18 from https://i.pinimg.com/736x/f6/25/15/f62515e81b1edab6a7c811c61b1c3981--hilarious-animals-funny-dogs.jpg\n",
            "[%] File Downloaded !\n",
            "\n",
            "[%] Downloading Image #19 from http://www.germanshepherds.com/forum/attachments/general-puppy-stuff/422889d1494915994-sable-black-tan-1.jpg\n",
            "[%] File Downloaded !\n",
            "\n",
            "[%] Downloading Image #20 from https://www.germanshepherds.com/forum/attachments/development-socialization/41650d1361933629-my-all-black-german-shepherd-puppy-sadie-imageuploadedbypg-free1361933629.350857.jpg\n",
            "[%] File Downloaded !\n",
            "\n",
            "[%] Downloading Image #21 from https://s3-eu-west-1.amazonaws.com/bowwowtimes-new/wp-content/uploads/2015/05/16-gsd.jpg\n",
            "[%] File Downloaded !\n",
            "\n",
            "[%] Downloading Image #22 from https://www.germanshepherds.com/forum/attachments/feeding-our-puppy/285034d1427616003-big-poop-20150312_135547_1427615867490.jpg\n",
            "[%] File Downloaded !\n",
            "\n",
            "\n",
            "\n",
            "[!!]Indexing page: 3\n",
            "\n",
            "[%] Indexed 11 Images on Page 3.\n",
            "\n",
            "===============================================\n",
            "\n",
            "[%] Downloading Image #23 from https://tacticalpolicek9training.com/wp-content/uploads/2012/10/Police-dogs-for-sale-german-Shepherd-Malinois-Labrador.jpg\n",
            "[%] File Downloaded !\n",
            "\n",
            "[%] Downloading Image #24 from https://www.germanshepherds.com/forum/attachments/feeding-our-puppy/285034d1427616003-big-poop-20150312_135547_1427615867490.jpg\n",
            "[%] File Downloaded !\n",
            "\n",
            "[%] Downloading Image #25 from http://www.samanthasbell.com/wp-content/uploads/2017/12/Blue-eyed-German-Shepherd-768x1024.jpg\n",
            "[%] File Downloaded !\n",
            "\n",
            "\n",
            "\n",
            "[%] Done. Downloaded 25 images.\n",
            "\n",
            "===============================================\n",
            "\n",
            "\n",
            "\n",
            "[!!]Indexing page: 1\n",
            "\n",
            "[%] Indexed 13 Images on Page 1.\n",
            "\n",
            "===============================================\n",
            "\n",
            "[%] Downloading Image #1 from http://www.strangebeaver.com/wp-content/uploads/2012/05/wpw52/9.jpg\n",
            "[%] File Downloaded !\n",
            "\n",
            "[%] Downloading Image #2 from http://teacupspuppies.com/wp-content/uploads/2016/09/miniature-dachshund-puppies.jpg\n",
            "[%] File Downloaded !\n",
            "\n",
            "[%] Downloading Image #3 from https://www.recreoviral.com/wp-content/uploads/2015/01/perros-con-cabeza-de-pajaros-12.jpg\n",
            "[%] File Downloaded !\n",
            "\n",
            "[%] Downloading Image #4 from https://www.recreoviral.com/wp-content/uploads/2015/01/71.jpg\n",
            "[%] File Downloaded !\n",
            "\n",
            "[%] Downloading Image #5 from http://i.ytimg.com/vi/-3LQIrz9FoM/maxresdefault.jpg\n",
            "[%] File Downloaded !\n",
            "\n",
            "[%] Downloading Image #6 from http://cdn.lolwot.com/wp-content/uploads/2015/05/16-designer-dog-breeds-that-will-melt-your-heart-2.jpg\n",
            "[%] File Downloaded !\n",
            "\n",
            "[%] Downloading Image #7 from https://d28hgpri8am2if.cloudfront.net/book_images/onix/cvr9781982101947/idiot-9781982101947_xlg-back.jpg\n",
            "[%] File Downloaded !\n",
            "\n",
            "[%] Downloading Image #8 from http://bestanimations.com/Animals/Mammals/Dogs/pugs/funny-cute-animated-pug-gif-31.gif\n",
            "[%] File Downloaded !\n",
            "\n",
            "[%] Downloading Image #9 from https://www.bing.com/th/id/OGC.cea4317b486a7e0b2d09aa0e61cbe828?pid=1.7&amp;rurl=http%3a%2f%2fbestanimations.com%2fAnimals%2fMammals%2fDogs%2fpugs%2ffunny-cute-animated-pug-gif-31.gif&amp;ehk=iMf7We2py9%2bkp%2bjexLeHTlHt4SjIMM88ayImjz8G000%3d\n",
            "[!] Issue getting: https://www.bing.com/th/id/OGC.cea4317b486a7e0b2d09aa0e61cbe828?pid=1.7&amp;rurl=http%3a%2f%2fbestanimations.com%2fAnimals%2fMammals%2fDogs%2fpugs%2ffunny-cute-animated-pug-gif-31.gif&amp;ehk=iMf7We2py9%2bkp%2bjexLeHTlHt4SjIMM88ayImjz8G000%3d\n",
            "[!] Error:: HTTP Error 404: Not Found\n",
            "[%] Downloading Image #9 from https://hative.com/wp-content/uploads/2014/10/no-carve-pumpkin-ideas/15-monster.jpg\n",
            "[%] File Downloaded !\n",
            "\n",
            "[%] Downloading Image #10 from https://i.pinimg.com/736x/41/e1/4a/41e14ae581ace053d5c3fa23bf5fbd5f.jpg\n",
            "[%] File Downloaded !\n",
            "\n",
            "[%] Downloading Image #11 from http://4.bp.blogspot.com/-uobABdk6HRs/U7EcWFoWo5I/AAAAAAAABXw/QweuR9cm3bA/s1600/robertbradfordstoys01.jpg\n",
            "[%] File Downloaded !\n",
            "\n",
            "[%] Downloading Image #12 from http://wanna-joke.com/wp-content/uploads/2014/05/funny-picture-pug-dog-happy-birthday-hat.jpg\n",
            "[%] File Downloaded !\n",
            "\n",
            "\n",
            "\n",
            "[!!]Indexing page: 2\n",
            "\n",
            "[%] Indexed 13 Images on Page 2.\n",
            "\n",
            "===============================================\n",
            "\n",
            "[%] Downloading Image #13 from http://www.strangebeaver.com/wp-content/uploads/2012/05/wpw52/9.jpg\n",
            "[%] File Downloaded !\n",
            "\n",
            "[%] Downloading Image #14 from http://teacupspuppies.com/wp-content/uploads/2016/09/miniature-dachshund-puppies.jpg\n",
            "[%] File Downloaded !\n",
            "\n",
            "[%] Downloading Image #15 from https://www.recreoviral.com/wp-content/uploads/2015/01/perros-con-cabeza-de-pajaros-12.jpg\n",
            "[%] File Downloaded !\n",
            "\n",
            "[%] Downloading Image #16 from https://www.recreoviral.com/wp-content/uploads/2015/01/71.jpg\n",
            "[%] File Downloaded !\n",
            "\n",
            "[%] Downloading Image #17 from http://i.ytimg.com/vi/-3LQIrz9FoM/maxresdefault.jpg\n",
            "[%] File Downloaded !\n",
            "\n",
            "[%] Downloading Image #18 from http://cdn.lolwot.com/wp-content/uploads/2015/05/16-designer-dog-breeds-that-will-melt-your-heart-2.jpg\n",
            "[%] File Downloaded !\n",
            "\n",
            "[%] Downloading Image #19 from https://d28hgpri8am2if.cloudfront.net/book_images/onix/cvr9781982101947/idiot-9781982101947_xlg-back.jpg\n",
            "[%] File Downloaded !\n",
            "\n",
            "[%] Downloading Image #20 from http://bestanimations.com/Animals/Mammals/Dogs/pugs/funny-cute-animated-pug-gif-31.gif\n",
            "[%] File Downloaded !\n",
            "\n",
            "[%] Downloading Image #21 from https://www.bing.com/th/id/OGC.cea4317b486a7e0b2d09aa0e61cbe828?pid=1.7&amp;rurl=http%3a%2f%2fbestanimations.com%2fAnimals%2fMammals%2fDogs%2fpugs%2ffunny-cute-animated-pug-gif-31.gif&amp;ehk=iMf7We2py9%2bkp%2bjexLeHTlHt4SjIMM88ayImjz8G000%3d\n",
            "[!] Issue getting: https://www.bing.com/th/id/OGC.cea4317b486a7e0b2d09aa0e61cbe828?pid=1.7&amp;rurl=http%3a%2f%2fbestanimations.com%2fAnimals%2fMammals%2fDogs%2fpugs%2ffunny-cute-animated-pug-gif-31.gif&amp;ehk=iMf7We2py9%2bkp%2bjexLeHTlHt4SjIMM88ayImjz8G000%3d\n",
            "[!] Error:: HTTP Error 404: Not Found\n",
            "[%] Downloading Image #21 from https://hative.com/wp-content/uploads/2014/10/no-carve-pumpkin-ideas/15-monster.jpg\n",
            "[%] File Downloaded !\n",
            "\n",
            "[%] Downloading Image #22 from https://i.pinimg.com/736x/41/e1/4a/41e14ae581ace053d5c3fa23bf5fbd5f.jpg\n",
            "[%] File Downloaded !\n",
            "\n",
            "[%] Downloading Image #23 from http://4.bp.blogspot.com/-uobABdk6HRs/U7EcWFoWo5I/AAAAAAAABXw/QweuR9cm3bA/s1600/robertbradfordstoys01.jpg\n",
            "[%] File Downloaded !\n",
            "\n",
            "[%] Downloading Image #24 from http://wanna-joke.com/wp-content/uploads/2014/05/funny-picture-pug-dog-happy-birthday-hat.jpg\n",
            "[%] File Downloaded !\n",
            "\n",
            "\n",
            "\n",
            "[!!]Indexing page: 3\n",
            "\n",
            "[%] Indexed 12 Images on Page 3.\n",
            "\n",
            "===============================================\n",
            "\n",
            "[%] Downloading Image #25 from http://i.ytimg.com/vi/-3LQIrz9FoM/maxresdefault.jpg\n",
            "[%] File Downloaded !\n",
            "\n",
            "\n",
            "\n",
            "[%] Done. Downloaded 25 images.\n",
            "\n",
            "===============================================\n",
            "\n"
          ],
          "name": "stdout"
        }
      ]
    },
    {
      "cell_type": "code",
      "metadata": {
        "id": "RdCF3SjxcSF5"
      },
      "source": [
        "import os\n",
        "import matplotlib.pyplot as plt\n",
        "import numpy as np\n",
        "from skimage.io import imread\n",
        "from skimage.transform import resize"
      ],
      "execution_count": null,
      "outputs": []
    },
    {
      "cell_type": "code",
      "metadata": {
        "id": "anyoCp96f7oY"
      },
      "source": [
        "DATA = '/content/images'\n",
        "Category = ['german shepherd','pug']\n",
        "flat_data = []\n",
        "images = []\n",
        "target = []\n",
        "for i in Category:\n",
        "  class_num = Category.index(i)\n",
        "  path = os.path.join(DATA,i)\n",
        "  for img in os.listdir(path):\n",
        "    img_array = imread(os.path.join(path,img))\n",
        "    img_resized = resize(img_array,(200,200,3))\n",
        "    flat_data.append(img_resized.flatten())\n",
        "    target.append(class_num)\n",
        "\n",
        "x = np.array(flat_data)\n",
        "y = np.array(target)    \n"
      ],
      "execution_count": null,
      "outputs": []
    },
    {
      "cell_type": "code",
      "metadata": {
        "id": "GeSGQdmXg8NH"
      },
      "source": [
        ""
      ],
      "execution_count": null,
      "outputs": []
    },
    {
      "cell_type": "code",
      "metadata": {
        "id": "et51LmBplN6M"
      },
      "source": [
        "from sklearn.model_selection import train_test_split\n",
        "x_train,x_test,y_train,y_test = train_test_split(x,y,test_size=0.6,random_state=98)"
      ],
      "execution_count": null,
      "outputs": []
    },
    {
      "cell_type": "code",
      "metadata": {
        "id": "ON1NrJu2myz-"
      },
      "source": [
        ""
      ],
      "execution_count": null,
      "outputs": []
    }
  ]
}